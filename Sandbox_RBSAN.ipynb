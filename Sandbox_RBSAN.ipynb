{
 "cells": [
  {
   "cell_type": "code",
   "execution_count": 70,
   "id": "59787510",
   "metadata": {},
   "outputs": [],
   "source": [
    "import pandas as pd\n",
    "import matplotlib.pyplot as plt\n",
    "\n",
    "# Import the Billing Summary: Hanwha Solutions 2023-04 ~ 2023-06\n",
    "df_raw = pd.read_csv('Billing summaries/billing_08-773312582_2023_04-2023_06.csv')\n",
    "df_raw = df_raw.drop([\"Workspace ID\", \"Project ID\", \"ID\", \"Name\", \"Rescale On-Demand License\", \"License Settings\", \"Unit Charge/Hour\", \"Walltime\", \"SKU\"], axis=1)"
   ]
  },
  {
   "cell_type": "code",
   "execution_count": 71,
   "id": "ce1857d4",
   "metadata": {},
   "outputs": [],
   "source": [
    "# Make the dataframe: compute\n",
    "df_compute = df_raw[df_raw[\"Type\"] == \"Compute\"].reset_index(drop=True)\n",
    "df_compute[\"Coretype\"] = df_compute[\"Description\"].str.extract(r':\\s(.*)')\n",
    "df_compute[\"Cores\"] = df_compute[\"Cores\"].astype(int)\n",
    "df_compute[\"Charge\"] = df_compute[\"Charge\"].str.replace(\"$\", \"\")\n",
    "df_compute[\"Charge\"] = df_compute[\"Charge\"].astype(float)\n",
    "df_compute[\"Submit Date\"] = pd.to_datetime(df_compute[\"Submit Date\"]).dt.strftime(\"%Y-%m-%d %H:%M:%S\")\n",
    "df_compute[\"Start Date\"] = pd.to_datetime(df_compute[\"Submit Date\"]).dt.strftime(\"%Y-%m-%d %H:%M:%S\")\n",
    "df_compute[\"Stop Date\"] = pd.to_datetime(df_compute[\"Submit Date\"]).dt.strftime(\"%Y-%m-%d %H:%M:%S\")\n",
    "df_compute = df_compute.drop([\"Description\"], axis=1)\n",
    "column_order = [\"Month\", \"Type\", \"Project Name\", \"User\", \"Job Type\", \"Software\", \n",
    "                \"Coretype\", \"Billing Priority\", \"Cores\", \"Submit Date\", \"Start Date\", \"Stop Date\", \"Unit Hours\", \"Charge\"]\n",
    "df_compute = df_compute[column_order]\n",
    "df_compute.columns = [\"Month\", \"Category\", \"Project Name\", \"User\", \"Job Type\", \"Software\", \n",
    "                      \"Coretype\", \"Billing Priority\", \"Cores\", \"Submit Date\", \"Start Date\", \"Stop Date\", \"Usage\", \"Charge [$]\"]"
   ]
  },
  {
   "cell_type": "code",
   "execution_count": 72,
   "id": "9f4b23d9",
   "metadata": {},
   "outputs": [],
   "source": [
    "# Make the dataframe: storage\n",
    "df_storage = df_raw[df_raw[\"Type\"] == \"Storage\"].reset_index(drop=True)\n",
    "df_storage = df_storage.drop([\"Project Name\", \"Software\", \"Submit Date\", \"Start Date\", \"Stop Date\", \"Billing Priority\", \"Cores\", \"Unit Hours\", \"Job Type\"], axis=1)\n",
    "df_storage[\"Usage\"] = df_storage[\"Description\"].str.extract(r':\\s(.*)')\n",
    "df_storage[\"Charge\"] = df_storage[\"Charge\"].str.replace(\"$\", \"\")\n",
    "df_storage[\"Charge\"] = df_storage[\"Charge\"].astype(float)\n",
    "df_storage = df_storage.drop([\"Description\"], axis=1)\n",
    "column_order = [\"Month\", \"Type\", \"User\", \"Usage\", \"Charge\"]\n",
    "df_storage = df_storage[column_order]\n",
    "df_storage.columns = [\"Month\", \"Category\", \"User\", \"Usage\", \"Charge [$]\"]"
   ]
  },
  {
   "cell_type": "code",
   "execution_count": 73,
   "id": "c16ff2b4",
   "metadata": {},
   "outputs": [],
   "source": [
    "# Make the dataframe: connection\n",
    "df_connection = df_raw[df_raw[\"Type\"] == \"License Proxy\"].reset_index(drop=True)\n",
    "df_connection = df_connection.drop([\"Project Name\", \"Software\", \"Submit Date\", \"Start Date\", \"Stop Date\", \"Billing Priority\", \"Cores\", \"Unit Hours\", \"Job Type\", \"Description\"], axis=1)\n",
    "df_connection[\"Charge\"] = df_connection[\"Charge\"].str.replace(\"$\", \"\")\n",
    "df_connection[\"Charge\"] = df_connection[\"Charge\"].astype(float)\n",
    "column_order = [\"Month\", \"Type\", \"User\", \"Charge\"]\n",
    "df_connection = df_connection[column_order]\n",
    "df_connection.columns = [\"Month\", \"Category\", \"User\", \"Charge [$]\"]"
   ]
  },
  {
   "cell_type": "code",
   "execution_count": 76,
   "id": "a99e072d",
   "metadata": {},
   "outputs": [
    {
     "name": "stdout",
     "output_type": "stream",
     "text": [
      "     Month  Category                    User   Usage  Charge [$]\n",
      "0  2023-04  Transfer  geunsik.lim@hanwha.com  0.00TB         0.0\n",
      "1  2023-04  Transfer   gil.sagong@hanwha.com  0.00TB         0.0\n",
      "2  2023-04  Transfer   hyewon.lee@hanwha.com  0.02TB         0.0\n",
      "3  2023-04  Transfer        ryuho@hanwha.com  0.00TB         0.0\n",
      "4  2023-04  Transfer   sihyun.kim@hanwha.com  0.00TB         0.0\n",
      "5  2023-05  Transfer  geunsik.lim@hanwha.com  0.00TB         0.0\n",
      "6  2023-05  Transfer   gil.sagong@hanwha.com  0.00TB         0.0\n",
      "7  2023-05  Transfer   hyewon.lee@hanwha.com  0.01TB         0.0\n",
      "8  2023-05  Transfer        ryuho@hanwha.com  0.00TB         0.0\n",
      "9  2023-05  Transfer   sihyun.kim@hanwha.com  0.00TB         0.0\n"
     ]
    }
   ],
   "source": [
    "# Make the dataframe: transfer\n",
    "df_transfer = df_raw[df_raw[\"Type\"] == \"Transfer\"].reset_index(drop=True)\n",
    "df_transfer = df_transfer.drop([\"Project Name\", \"Software\", \"Submit Date\", \"Start Date\", \"Stop Date\", \"Billing Priority\", \"Cores\", \"Unit Hours\", \"Job Type\"], axis=1)\n",
    "df_transfer[\"Usage\"] = df_transfer[\"Description\"].str.extract(r':\\s(.*)')\n",
    "df_transfer[\"Charge\"] = df_transfer[\"Charge\"].str.replace(\"$\", \"\")\n",
    "df_transfer[\"Charge\"] = df_transfer[\"Charge\"].astype(float)\n",
    "df_transfer = df_transfer.drop([\"Description\"], axis=1)\n",
    "column_order = [\"Month\", \"Type\", \"User\", \"Usage\", \"Charge\"]\n",
    "df_transfer = df_transfer[column_order]\n",
    "df_transfer.columns = [\"Month\", \"Category\", \"User\", \"Usage\", \"Charge [$]\"]\n",
    "print(df_transfer.head(10))"
   ]
  },
  {
   "cell_type": "code",
   "execution_count": 75,
   "id": "e924e2a8",
   "metadata": {},
   "outputs": [
    {
     "name": "stdout",
     "output_type": "stream",
     "text": [
      "     Month Category      Project Name                    User     Job Type  \\\n",
      "0  2023-04  Compute               NaN  geunsik.lim@hanwha.com  Workstation   \n",
      "1  2023-04  Compute              계산화학  geunsik.lim@hanwha.com  Workstation   \n",
      "2  2023-04  Compute              계산화학  geunsik.lim@hanwha.com  Workstation   \n",
      "3  2023-04  Compute              계산화학   gil.sagong@hanwha.com  Workstation   \n",
      "4  2023-04  Compute  ProcessR&DCenter   hyewon.lee@hanwha.com        Basic   \n",
      "5  2023-04  Compute  ProcessR&DCenter   hyewon.lee@hanwha.com        Basic   \n",
      "6  2023-04  Compute  ProcessR&DCenter   hyewon.lee@hanwha.com        Basic   \n",
      "7  2023-04  Compute  ProcessR&DCenter   hyewon.lee@hanwha.com        Basic   \n",
      "8  2023-04  Compute  ProcessR&DCenter   hyewon.lee@hanwha.com        Basic   \n",
      "9  2023-04  Compute  ProcessR&DCenter   hyewon.lee@hanwha.com        Basic   \n",
      "\n",
      "                                            Software     Coretype  \\\n",
      "0            (SXP) CMLE-hanwhasol cpu-20230307-proto      Calcite   \n",
      "1  Miniconda Interactive 4.8.4_e2ed;Mozilla Firef...  Chromium v2   \n",
      "2  Miniconda Interactive 4.8.4_e2ed;Mozilla Firef...  Chromium v2   \n",
      "3  Miniconda Interactive 4.8.4_e2ed;Mozilla Firef...  Emerald Max   \n",
      "4                               ANSYS Fluent 2021 R2      Peridot   \n",
      "5                               ANSYS Fluent 2021 R2      Peridot   \n",
      "6                               ANSYS Fluent 2021 R2      Peridot   \n",
      "7                               ANSYS Fluent 2021 R2      Emerald   \n",
      "8                               ANSYS Fluent 2021 R2      Emerald   \n",
      "9                               ANSYS Fluent 2021 R2      Emerald   \n",
      "\n",
      "  Billing Priority  Cores          Submit Date           Start Date  \\\n",
      "0              ODP   16.0  2023-04-10 07:30:52  2023-04-10 07:30:52   \n",
      "1              ODP   16.0  2023-04-10 08:01:51  2023-04-10 08:01:51   \n",
      "2              ODP   16.0  2023-04-11 05:55:51  2023-04-11 05:55:51   \n",
      "3              ODP   36.0  2023-04-13 07:23:05  2023-04-13 07:23:05   \n",
      "4              ODP  132.0  2023-04-11 09:27:55  2023-04-11 09:27:55   \n",
      "5              ODP  132.0  2023-04-12 01:08:11  2023-04-12 01:08:11   \n",
      "6              ODP  132.0  2023-04-12 05:36:40  2023-04-12 05:36:40   \n",
      "7              ODP   36.0  2023-04-13 07:21:43  2023-04-13 07:21:43   \n",
      "8              ODP   36.0  2023-04-17 03:08:26  2023-04-17 03:08:26   \n",
      "9              ODP   36.0  2023-04-17 03:31:06  2023-04-17 03:31:06   \n",
      "\n",
      "             Stop Date       Usage  Charge [$]  \n",
      "0  2023-04-10 07:30:52    11.14667        1.56  \n",
      "1  2023-04-10 08:01:51  1937.37778      335.37  \n",
      "2  2023-04-11 05:55:51  1618.44445      280.17  \n",
      "3  2023-04-13 07:23:05       21.78        2.39  \n",
      "4  2023-04-11 09:27:55  1604.16667      157.53  \n",
      "5  2023-04-12 01:08:11    93.86667        9.24  \n",
      "6  2023-04-12 05:36:40    76.67001        7.53  \n",
      "7  2023-04-13 07:21:43       81.56        8.92  \n",
      "8  2023-04-17 03:08:26        8.99        0.87  \n",
      "9  2023-04-17 03:31:06        4.26        0.47  \n"
     ]
    }
   ],
   "source": [
    "merged_df = pd.concat([df_compute, df_connection, df_storage, df_transfer], axis=0, ignore_index=True)\n",
    "print(merged_df.head(10))\n",
    "merged_df.to_csv('Test.csv', mode=\"w\", index=False)"
   ]
  }
 ],
 "metadata": {
  "kernelspec": {
   "display_name": "Python 3 (ipykernel)",
   "language": "python",
   "name": "python3"
  },
  "language_info": {
   "codemirror_mode": {
    "name": "ipython",
    "version": 3
   },
   "file_extension": ".py",
   "mimetype": "text/x-python",
   "name": "python",
   "nbconvert_exporter": "python",
   "pygments_lexer": "ipython3",
   "version": "3.9.16"
  }
 },
 "nbformat": 4,
 "nbformat_minor": 5
}
