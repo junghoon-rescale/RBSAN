{
 "cells": [
  {
   "cell_type": "code",
   "execution_count": 1,
   "id": "59787510",
   "metadata": {},
   "outputs": [],
   "source": [
    "import pandas as pd\n",
    "import matplotlib.pyplot as plt"
   ]
  },
  {
   "cell_type": "code",
   "execution_count": 2,
   "id": "ce1857d4",
   "metadata": {},
   "outputs": [
    {
     "name": "stdout",
     "output_type": "stream",
     "text": [
      "     Month Project ID    Project Name                 User Job Type  Job ID  \\\n",
      "0  2023-04      UgQWc  Welding_ABAQUS  dohyunko@hanwha.com    Basic  jGhHhb   \n",
      "1  2023-04      UgQWc  Welding_ABAQUS  dohyunko@hanwha.com    Basic  tSsLeb   \n",
      "2  2023-04      UgQWc  Welding_ABAQUS  dohyunko@hanwha.com    Basic   DMTgU   \n",
      "3  2023-04      UgQWc  Welding_ABAQUS  dohyunko@hanwha.com    Basic   zBTgU   \n",
      "4  2023-04      UgQWc  Welding_ABAQUS  dohyunko@hanwha.com    Basic   OMTgU   \n",
      "5  2023-04      UgQWc  Welding_ABAQUS  dohyunko@hanwha.com    Basic   endmU   \n",
      "6  2023-04      UgQWc  Welding_ABAQUS  dohyunko@hanwha.com    Basic   FrTNm   \n",
      "7  2023-04      UgQWc  Welding_ABAQUS  dohyunko@hanwha.com    Basic   owujb   \n",
      "8  2023-04      UgQWc  Welding_ABAQUS  dohyunko@hanwha.com    Basic   swexp   \n",
      "9  2023-04      UgQWc  Welding_ABAQUS  dohyunko@hanwha.com    Basic   VgpBp   \n",
      "\n",
      "                                            Job Name Software  \\\n",
      "0                                           작업 제목 없음   Abaqus   \n",
      "1                 [H3306 weld sequence] HT_cut_start   Abaqus   \n",
      "2        [H3306 weld sequence] HT_cut_start_RES(G32)   Abaqus   \n",
      "3  [H3306 weld sequence] HT_cut_start_RES(G32) (C...   Abaqus   \n",
      "4        [H3306 weld sequence] HT_cut_start_RES(2G3)   Abaqus   \n",
      "5                                       Untitled Job   Abaqus   \n",
      "6                                     [H3306]HT_Ncut   Abaqus   \n",
      "7                                 [H3306] EP_CUT_2G3   Abaqus   \n",
      "8                            [H3306] EP_CUT_2G3 (복제)   Abaqus   \n",
      "9                            [H3306] EP_CUT_2G3 (복제)   Abaqus   \n",
      "\n",
      "  Rescale On-Demand License    Coretype Billing Priority  Cores  Unit Hours  \\\n",
      "0                     False    Starlite              ODP    1.0     0.16000   \n",
      "1                     False    Starlite              ODP   16.0     5.45778   \n",
      "2                     False    Starlite              ODP   16.0     3.05778   \n",
      "3                     False    Starlite              ODP   16.0     1.45778   \n",
      "4                     False    Starlite              ODP   16.0     1.97778   \n",
      "5                     False    Starlite              ODP   16.0   147.84000   \n",
      "6                     False  Calcite v2              ODE   16.0   158.09778   \n",
      "7                     False  Calcite v2              ODE   16.0    16.07112   \n",
      "8                     False  Calcite v2              ODE   16.0     1.42223   \n",
      "9                     False  Calcite v2              ODE   16.0     1.47556   \n",
      "\n",
      "   Charge  \n",
      "0    0.02  \n",
      "1    0.53  \n",
      "2    0.30  \n",
      "3    0.15  \n",
      "4    0.20  \n",
      "5   14.32  \n",
      "6   10.27  \n",
      "7    1.05  \n",
      "8    0.10  \n",
      "9    0.07  \n"
     ]
    }
   ],
   "source": [
    "df_raw = pd.read_csv(\"billing_08-246800072_2023_03-2023_06.csv\")\n",
    "df_raw = df_raw.drop([\"Workspace ID\", \"License Settings\", \"SKU\"], axis=1)\n",
    "df_compute = df_raw[df_raw[\"Type\"] == 'Compute'].reset_index(drop=True)\n",
    "df_compute = df_compute.drop([\"Type\",\"Submit Date\", \"Start Date\", \"Stop Date\", \"Unit Charge/Hour\", \"Walltime\"], axis=1)\n",
    "df_compute['Coretype'] = df_compute['Description'].str.extract(r':\\s(.*)')\n",
    "df_compute['Charge'] = df_compute['Charge'].str.replace(\"$\", \"\")\n",
    "df_compute['Charge'] = df_compute['Charge'].astype(float)\n",
    "df_compute = df_compute.drop([\"Description\"], axis=1)\n",
    "column_order = [\"Month\", \"Project ID\", \"Project Name\", \"User\", \"Job Type\", \"ID\", \"Name\",\n",
    "                \"Software\", \"Rescale On-Demand License\",\n",
    "                \"Coretype\", \"Billing Priority\", \"Cores\", \"Unit Hours\", \"Charge\"]\n",
    "df_compute = df_compute[column_order]\n",
    "df_compute.columns = [\"Month\", \"Project ID\", \"Project Name\", \"User\", \"Job Type\", \"Job ID\", \"Job Name\",\n",
    "                      \"Software\", \"Rescale On-Demand License\",\n",
    "                      \"Coretype\", \"Billing Priority\", \"Cores\", \"Unit Hours\", \"Charge\"]\n",
    "print(df_compute.head(10))"
   ]
  },
  {
   "cell_type": "code",
   "execution_count": null,
   "id": "ab234b4d",
   "metadata": {},
   "outputs": [],
   "source": []
  },
  {
   "cell_type": "code",
   "execution_count": null,
   "id": "354ee137",
   "metadata": {},
   "outputs": [],
   "source": []
  },
  {
   "cell_type": "code",
   "execution_count": null,
   "id": "9f4b23d9",
   "metadata": {},
   "outputs": [],
   "source": []
  },
  {
   "cell_type": "code",
   "execution_count": null,
   "id": "4f0bf221",
   "metadata": {},
   "outputs": [],
   "source": []
  }
 ],
 "metadata": {
  "kernelspec": {
   "display_name": "Python 3 (ipykernel)",
   "language": "python",
   "name": "python3"
  },
  "language_info": {
   "codemirror_mode": {
    "name": "ipython",
    "version": 3
   },
   "file_extension": ".py",
   "mimetype": "text/x-python",
   "name": "python",
   "nbconvert_exporter": "python",
   "pygments_lexer": "ipython3",
   "version": "3.9.16"
  }
 },
 "nbformat": 4,
 "nbformat_minor": 5
}
